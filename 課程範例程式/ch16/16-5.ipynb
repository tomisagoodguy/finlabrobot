{
 "cells": [
  {
   "cell_type": "code",
   "execution_count": 1,
   "id": "d1ac8b8f",
   "metadata": {},
   "outputs": [],
   "source": [
    "import matplotlib.font_manager as fm"
   ]
  },
  {
   "cell_type": "code",
   "execution_count": 2,
   "id": "29c2331c",
   "metadata": {},
   "outputs": [],
   "source": [
    "font_list = fm.findSystemFonts(fontext='ttf')\n",
    "for font in font_list:\n",
    "    try:\n",
    "        font_name = fm.FontProperties(fname=font).get_name()\n",
    "        if \"TC\" in font_name:\n",
    "            print(font_name)\n",
    "    except RuntimeError:\n",
    "        # 忽略無效字型\n",
    "        continue"
   ]
  },
  {
   "cell_type": "code",
   "execution_count": 3,
   "id": "ea789187",
   "metadata": {},
   "outputs": [
    {
     "name": "stderr",
     "output_type": "stream",
     "text": [
      "[*********************100%%**********************]  1 of 1 completed\n"
     ]
    }
   ],
   "source": [
    "import yfinance as yf\n",
    "import numpy as np\n",
    "import matplotlib.pyplot as plt\n",
    "\n",
    "tsmc = yf.download(\"2330.tw\", start=\"2023-01-01\", end=\"2023-12-31\")\n",
    "tsmc['Change'] = tsmc['Close'].diff()\n",
    "tsmc[\"K_Change\"] = tsmc.Close - tsmc.Open"
   ]
  },
  {
   "cell_type": "code",
   "execution_count": 4,
   "id": "b8be443c",
   "metadata": {},
   "outputs": [
    {
     "name": "stderr",
     "output_type": "stream",
     "text": [
      "findfont: Font family 'Heiti TC' not found.\n",
      "findfont: Font family 'Heiti TC' not found.\n",
      "findfont: Font family 'Heiti TC' not found.\n",
      "findfont: Font family 'Heiti TC' not found.\n",
      "findfont: Font family 'Heiti TC' not found.\n",
      "findfont: Font family 'Heiti TC' not found.\n",
      "findfont: Font family 'Heiti TC' not found.\n",
      "C:\\Users\\tom89\\AppData\\Roaming\\Python\\Python312\\site-packages\\IPython\\core\\pylabtools.py:170: UserWarning: Glyph 27425 (\\N{CJK UNIFIED IDEOGRAPH-6B21}) missing from current font.\n",
      "  fig.canvas.print_figure(bytes_io, **kw)\n",
      "C:\\Users\\tom89\\AppData\\Roaming\\Python\\Python312\\site-packages\\IPython\\core\\pylabtools.py:170: UserWarning: Glyph 25976 (\\N{CJK UNIFIED IDEOGRAPH-6578}) missing from current font.\n",
      "  fig.canvas.print_figure(bytes_io, **kw)\n",
      "findfont: Font family 'Heiti TC' not found.\n",
      "findfont: Font family 'Heiti TC' not found.\n",
      "C:\\Users\\tom89\\AppData\\Roaming\\Python\\Python312\\site-packages\\IPython\\core\\pylabtools.py:170: UserWarning: Glyph 21488 (\\N{CJK UNIFIED IDEOGRAPH-53F0}) missing from current font.\n",
      "  fig.canvas.print_figure(bytes_io, **kw)\n",
      "C:\\Users\\tom89\\AppData\\Roaming\\Python\\Python312\\site-packages\\IPython\\core\\pylabtools.py:170: UserWarning: Glyph 31309 (\\N{CJK UNIFIED IDEOGRAPH-7A4D}) missing from current font.\n",
      "  fig.canvas.print_figure(bytes_io, **kw)\n",
      "C:\\Users\\tom89\\AppData\\Roaming\\Python\\Python312\\site-packages\\IPython\\core\\pylabtools.py:170: UserWarning: Glyph 38651 (\\N{CJK UNIFIED IDEOGRAPH-96FB}) missing from current font.\n",
      "  fig.canvas.print_figure(bytes_io, **kw)\n",
      "C:\\Users\\tom89\\AppData\\Roaming\\Python\\Python312\\site-packages\\IPython\\core\\pylabtools.py:170: UserWarning: Glyph 32929 (\\N{CJK UNIFIED IDEOGRAPH-80A1}) missing from current font.\n",
      "  fig.canvas.print_figure(bytes_io, **kw)\n",
      "C:\\Users\\tom89\\AppData\\Roaming\\Python\\Python312\\site-packages\\IPython\\core\\pylabtools.py:170: UserWarning: Glyph 20729 (\\N{CJK UNIFIED IDEOGRAPH-50F9}) missing from current font.\n",
      "  fig.canvas.print_figure(bytes_io, **kw)\n",
      "C:\\Users\\tom89\\AppData\\Roaming\\Python\\Python312\\site-packages\\IPython\\core\\pylabtools.py:170: UserWarning: Glyph 35722 (\\N{CJK UNIFIED IDEOGRAPH-8B8A}) missing from current font.\n",
      "  fig.canvas.print_figure(bytes_io, **kw)\n",
      "C:\\Users\\tom89\\AppData\\Roaming\\Python\\Python312\\site-packages\\IPython\\core\\pylabtools.py:170: UserWarning: Glyph 21270 (\\N{CJK UNIFIED IDEOGRAPH-5316}) missing from current font.\n",
      "  fig.canvas.print_figure(bytes_io, **kw)\n",
      "C:\\Users\\tom89\\AppData\\Roaming\\Python\\Python312\\site-packages\\IPython\\core\\pylabtools.py:170: UserWarning: Glyph 20998 (\\N{CJK UNIFIED IDEOGRAPH-5206}) missing from current font.\n",
      "  fig.canvas.print_figure(bytes_io, **kw)\n",
      "C:\\Users\\tom89\\AppData\\Roaming\\Python\\Python312\\site-packages\\IPython\\core\\pylabtools.py:170: UserWarning: Glyph 20296 (\\N{CJK UNIFIED IDEOGRAPH-4F48}) missing from current font.\n",
      "  fig.canvas.print_figure(bytes_io, **kw)\n",
      "findfont: Font family 'Heiti TC' not found.\n",
      "findfont: Font family 'Heiti TC' not found.\n",
      "findfont: Font family 'Heiti TC' not found.\n"
     ]
    },
    {
     "name": "stdout",
     "output_type": "stream",
     "text": [
      "543.4518828451883\n",
      "0.5882352941176471\n",
      "7.593575086880941\n"
     ]
    },
    {
     "name": "stderr",
     "output_type": "stream",
     "text": [
      "findfont: Font family 'Heiti TC' not found.\n",
      "findfont: Font family 'Heiti TC' not found.\n",
      "findfont: Font family 'Heiti TC' not found.\n",
      "findfont: Font family 'Heiti TC' not found.\n",
      "findfont: Font family 'Heiti TC' not found.\n",
      "findfont: Font family 'Heiti TC' not found.\n",
      "findfont: Font family 'Heiti TC' not found.\n",
      "findfont: Font family 'Heiti TC' not found.\n",
      "findfont: Font family 'Heiti TC' not found.\n",
      "findfont: Font family 'Heiti TC' not found.\n",
      "findfont: Font family 'Heiti TC' not found.\n",
      "findfont: Font family 'Heiti TC' not found.\n",
      "findfont: Font family 'Heiti TC' not found.\n",
      "findfont: Font family 'Heiti TC' not found.\n",
      "findfont: Font family 'Heiti TC' not found.\n",
      "findfont: Font family 'Heiti TC' not found.\n",
      "findfont: Font family 'Heiti TC' not found.\n",
      "findfont: Font family 'Heiti TC' not found.\n",
      "findfont: Font family 'Heiti TC' not found.\n",
      "findfont: Font family 'Heiti TC' not found.\n",
      "findfont: Font family 'Heiti TC' not found.\n",
      "findfont: Font family 'Heiti TC' not found.\n",
      "findfont: Font family 'Heiti TC' not found.\n",
      "findfont: Font family 'Heiti TC' not found.\n",
      "findfont: Font family 'Heiti TC' not found.\n",
      "findfont: Font family 'Heiti TC' not found.\n",
      "findfont: Font family 'Heiti TC' not found.\n"
     ]
    },
    {
     "data": {
      "image/png": "[encoded data removed]",
      "text/plain": [
       "<Figure size 640x480 with 1 Axes>"
      ]
     },
     "metadata": {},
     "output_type": "display_data"
    }
   ],
   "source": [
    "import matplotlib\n",
    "matplotlib.rc(\"font\", family=\"Heiti TC\")\n",
    "\n",
    "tsmc_Change_mean = np.mean(tsmc.Change)\n",
    "print(np.mean(tsmc.Close))\n",
    "print(tsmc_Change_mean)\n",
    "tsmc_Change_std = np.std(tsmc.Change)\n",
    "print(tsmc_Change_std)\n",
    "plt.axvline(tsmc_Change_mean, color=\"r\")\n",
    "plt.axvline(tsmc_Change_mean - 2 * tsmc_Change_std, color=\"black\")\n",
    "plt.axvline(tsmc_Change_mean + 2 * tsmc_Change_std, color=\"black\")\n",
    "\n",
    "plt.title(\"台積電股價變化分佈\")\n",
    "plt.ylabel(\"次數\")\n",
    "plt.xlabel(\"股價變化\")\n",
    "plt.hist(tsmc.Change, bins=20, edgecolor=\"black\")\n",
    "plt.show()"
   ]
  },
  {
   "cell_type": "code",
   "execution_count": null,
   "id": "2a352b92",
   "metadata": {},
   "outputs": [],
   "source": []
  },
  {
   "cell_type": "code",
   "execution_count": null,
   "id": "1a130fae",
   "metadata": {},
   "outputs": [],
   "source": []
  },
  {
   "cell_type": "code",
   "execution_count": null,
   "id": "1eee7171",
   "metadata": {},
   "outputs": [],
   "source": []
  },
  {
   "cell_type": "code",
   "execution_count": null,
   "id": "03f58f36",
   "metadata": {},
   "outputs": [],
   "source": []
  },
  {
   "cell_type": "code",
   "execution_count": null,
   "id": "229ff1f0",
   "metadata": {},
   "outputs": [],
   "source": []
  }
 ],
 "metadata": {
  "kernelspec": {
   "display_name": "base",
   "language": "python",
   "name": "python3"
  },
  "language_info": {
   "codemirror_mode": {
    "name": "ipython",
    "version": 3
   },
   "file_extension": ".py",
   "mimetype": "text/x-python",
   "name": "python",
   "nbconvert_exporter": "python",
   "pygments_lexer": "ipython3",
   "version": "3.12.4"
  }
 },
 "nbformat": 4,
 "nbformat_minor": 5
}
