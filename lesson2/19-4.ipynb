{
 "cells": [
  {
   "cell_type": "code",
   "execution_count": 1,
   "metadata": {},
   "outputs": [],
   "source": [
    "import requests\n",
    "import pandas as pd"
   ]
  },
  {
   "cell_type": "code",
   "execution_count": 12,
   "metadata": {},
   "outputs": [],
   "source": [
    "url = 'https://mopsfin.twse.com.tw/opendata/t187ap05_L.csv'\n",
    "data = pd.read_csv(url)"
   ]
  },
  {
   "cell_type": "code",
   "execution_count": 15,
   "metadata": {},
   "outputs": [
    {
     "data": {
      "text/html": [
       "<div>\n",
       "<style scoped>\n",
       "    .dataframe tbody tr th:only-of-type {\n",
       "        vertical-align: middle;\n",
       "    }\n",
       "\n",
       "    .dataframe tbody tr th {\n",
       "        vertical-align: top;\n",
       "    }\n",
       "\n",
       "    .dataframe thead th {\n",
       "        text-align: right;\n",
       "    }\n",
       "</style>\n",
       "<table border=\"1\" class=\"dataframe\">\n",
       "  <thead>\n",
       "    <tr style=\"text-align: right;\">\n",
       "      <th></th>\n",
       "      <th>出表日期</th>\n",
       "      <th>資料年月</th>\n",
       "      <th>公司代號</th>\n",
       "      <th>公司名稱</th>\n",
       "      <th>產業別</th>\n",
       "      <th>營業收入-當月營收</th>\n",
       "      <th>營業收入-上月營收</th>\n",
       "      <th>營業收入-去年當月營收</th>\n",
       "      <th>營業收入-上月比較增減(%)</th>\n",
       "      <th>營業收入-去年同月增減(%)</th>\n",
       "      <th>累計營業收入-當月累計營收</th>\n",
       "      <th>累計營業收入-去年累計營收</th>\n",
       "      <th>累計營業收入-前期比較增減(%)</th>\n",
       "      <th>備註</th>\n",
       "    </tr>\n",
       "  </thead>\n",
       "  <tbody>\n",
       "    <tr>\n",
       "      <th>276</th>\n",
       "      <td>1131012</td>\n",
       "      <td>11309</td>\n",
       "      <td>2330</td>\n",
       "      <td>台積電</td>\n",
       "      <td>半導體業</td>\n",
       "      <td>251872717</td>\n",
       "      <td>250866368</td>\n",
       "      <td>180430282</td>\n",
       "      <td>0.401149</td>\n",
       "      <td>39.59559</td>\n",
       "      <td>2025846521</td>\n",
       "      <td>1536206985</td>\n",
       "      <td>31.873279</td>\n",
       "      <td>-</td>\n",
       "    </tr>\n",
       "  </tbody>\n",
       "</table>\n",
       "</div>"
      ],
      "text/plain": [
       "        出表日期   資料年月  公司代號 公司名稱   產業別  營業收入-當月營收  營業收入-上月營收  營業收入-去年當月營收  \\\n",
       "276  1131012  11309  2330  台積電  半導體業  251872717  250866368    180430282   \n",
       "\n",
       "     營業收入-上月比較增減(%)  營業收入-去年同月增減(%)  累計營業收入-當月累計營收  累計營業收入-去年累計營收  \\\n",
       "276        0.401149        39.59559     2025846521     1536206985   \n",
       "\n",
       "     累計營業收入-前期比較增減(%) 備註  \n",
       "276         31.873279  -  "
      ]
     },
     "execution_count": 15,
     "metadata": {},
     "output_type": "execute_result"
    }
   ],
   "source": [
    "data[data['公司名稱'] == '台積電']"
   ]
  },
  {
   "cell_type": "code",
   "execution_count": 16,
   "metadata": {},
   "outputs": [],
   "source": [
    "url = 'https://mopsfin.twse.com.tw/opendata/t187ap14_L.csv'\n",
    "data = pd.read_csv(url)"
   ]
  },
  {
   "cell_type": "code",
   "execution_count": 21,
   "metadata": {},
   "outputs": [
    {
     "data": {
      "text/plain": [
       "0       1101\n",
       "1       1102\n",
       "2       1103\n",
       "3       1104\n",
       "4       1108\n",
       "        ... \n",
       "1015    9944\n",
       "1016    9945\n",
       "1017    9946\n",
       "1018    9955\n",
       "1019    9958\n",
       "Name: 公司代號, Length: 1020, dtype: int64"
      ]
     },
     "execution_count": 21,
     "metadata": {},
     "output_type": "execute_result"
    }
   ],
   "source": [
    "data['公司代號']"
   ]
  },
  {
   "cell_type": "code",
   "execution_count": null,
   "metadata": {},
   "outputs": [],
   "source": []
  }
 ],
 "metadata": {
  "kernelspec": {
   "display_name": "base",
   "language": "python",
   "name": "python3"
  },
  "language_info": {
   "codemirror_mode": {
    "name": "ipython",
    "version": 3
   },
   "file_extension": ".py",
   "mimetype": "text/x-python",
   "name": "python",
   "nbconvert_exporter": "python",
   "pygments_lexer": "ipython3",
   "version": "3.12.4"
  }
 },
 "nbformat": 4,
 "nbformat_minor": 2
}
